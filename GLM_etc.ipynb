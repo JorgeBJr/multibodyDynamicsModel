{
 "cells": [
  {
   "cell_type": "code",
   "execution_count": 10,
   "id": "1212b476",
   "metadata": {},
   "outputs": [],
   "source": [
    "import pandas as pd"
   ]
  },
  {
   "cell_type": "code",
   "execution_count": 11,
   "id": "376777a8",
   "metadata": {},
   "outputs": [
    {
     "data": {
      "text/html": [
       "<div>\n",
       "<style scoped>\n",
       "    .dataframe tbody tr th:only-of-type {\n",
       "        vertical-align: middle;\n",
       "    }\n",
       "\n",
       "    .dataframe tbody tr th {\n",
       "        vertical-align: top;\n",
       "    }\n",
       "\n",
       "    .dataframe thead th {\n",
       "        text-align: right;\n",
       "    }\n",
       "</style>\n",
       "<table border=\"1\" class=\"dataframe\">\n",
       "  <thead>\n",
       "    <tr style=\"text-align: right;\">\n",
       "      <th></th>\n",
       "      <th>Tracking_Error</th>\n",
       "      <th>abdo_mass</th>\n",
       "      <th>length_scale</th>\n",
       "      <th>petiole_length</th>\n",
       "      <th>torsional_spring</th>\n",
       "    </tr>\n",
       "  </thead>\n",
       "  <tbody>\n",
       "    <tr>\n",
       "      <td>0</td>\n",
       "      <td>0.122015</td>\n",
       "      <td>0.1</td>\n",
       "      <td>1.0</td>\n",
       "      <td>0.0</td>\n",
       "      <td>0.1</td>\n",
       "    </tr>\n",
       "    <tr>\n",
       "      <td>1</td>\n",
       "      <td>0.118489</td>\n",
       "      <td>0.1</td>\n",
       "      <td>1.0</td>\n",
       "      <td>0.0</td>\n",
       "      <td>0.1</td>\n",
       "    </tr>\n",
       "    <tr>\n",
       "      <td>2</td>\n",
       "      <td>0.127112</td>\n",
       "      <td>0.1</td>\n",
       "      <td>1.0</td>\n",
       "      <td>0.0</td>\n",
       "      <td>0.1</td>\n",
       "    </tr>\n",
       "    <tr>\n",
       "      <td>3</td>\n",
       "      <td>0.118890</td>\n",
       "      <td>0.1</td>\n",
       "      <td>1.0</td>\n",
       "      <td>0.0</td>\n",
       "      <td>0.1</td>\n",
       "    </tr>\n",
       "    <tr>\n",
       "      <td>4</td>\n",
       "      <td>0.115918</td>\n",
       "      <td>0.1</td>\n",
       "      <td>1.0</td>\n",
       "      <td>0.0</td>\n",
       "      <td>0.1</td>\n",
       "    </tr>\n",
       "  </tbody>\n",
       "</table>\n",
       "</div>"
      ],
      "text/plain": [
       "   Tracking_Error  abdo_mass  length_scale  petiole_length  torsional_spring\n",
       "0        0.122015        0.1           1.0             0.0               0.1\n",
       "1        0.118489        0.1           1.0             0.0               0.1\n",
       "2        0.127112        0.1           1.0             0.0               0.1\n",
       "3        0.118890        0.1           1.0             0.0               0.1\n",
       "4        0.115918        0.1           1.0             0.0               0.1"
      ]
     },
     "execution_count": 11,
     "metadata": {},
     "output_type": "execute_result"
    }
   ],
   "source": [
    "df = pd.read_csv('./dataFolder/jorge_vertical_oscillating.csv')\n",
    "df.head()"
   ]
  },
  {
   "cell_type": "code",
   "execution_count": 13,
   "id": "511b7f19",
   "metadata": {},
   "outputs": [],
   "source": [
    "y = df['Tracking_Error']\n",
    "X = df[['abdo_mass', 'length_scale', 'petiole_length', 'torsional_spring']]"
   ]
  },
  {
   "cell_type": "code",
   "execution_count": 14,
   "id": "9cd87bf4",
   "metadata": {},
   "outputs": [
    {
     "data": {
      "text/plain": [
       "LinearRegression(copy_X=True, fit_intercept=True, n_jobs=None, normalize=False)"
      ]
     },
     "execution_count": 14,
     "metadata": {},
     "output_type": "execute_result"
    }
   ],
   "source": [
    "from sklearn import linear_model\n",
    "regr = linear_model.LinearRegression()\n",
    "regr.fit(X, y)"
   ]
  },
  {
   "cell_type": "code",
   "execution_count": null,
   "id": "d2e8ce56",
   "metadata": {},
   "outputs": [],
   "source": []
  },
  {
   "cell_type": "code",
   "execution_count": null,
   "id": "bf027c09",
   "metadata": {},
   "outputs": [],
   "source": []
  },
  {
   "cell_type": "code",
   "execution_count": 1,
   "id": "d34e18dc",
   "metadata": {},
   "outputs": [],
   "source": [
    "import statsmodels.api as sm\n",
    "import statsmodels.formula.api as smf\n",
    "from statsmodels.formula.api import glm"
   ]
  },
  {
   "cell_type": "code",
   "execution_count": 23,
   "id": "80f4e214",
   "metadata": {},
   "outputs": [],
   "source": [
    "# Without interaction terms \n",
    "y = df['Tracking_Error']\n",
    "X = df[['abdo_mass', 'length_scale', 'petiole_length', 'torsional_spring']]\n",
    "exog, endog = sm.add_constant(X), y\n",
    "mod = sm.GLM(endog, exog,\n",
    "             family=sm.families.Gaussian())\n",
    "res = mod.fit()"
   ]
  },
  {
   "cell_type": "code",
   "execution_count": 24,
   "id": "fb3e25c1",
   "metadata": {},
   "outputs": [
    {
     "name": "stdout",
     "output_type": "stream",
     "text": [
      "                 Generalized Linear Model Regression Results                  \n",
      "==============================================================================\n",
      "Dep. Variable:         Tracking_Error   No. Observations:                  680\n",
      "Model:                            GLM   Df Residuals:                      675\n",
      "Model Family:                Gaussian   Df Model:                            4\n",
      "Link Function:               identity   Scale:                      0.00060633\n",
      "Method:                          IRLS   Log-Likelihood:                 1556.4\n",
      "Date:                Wed, 21 Jul 2021   Deviance:                      0.40928\n",
      "Time:                        12:55:45   Pearson chi2:                    0.409\n",
      "No. Iterations:                     3                                         \n",
      "Covariance Type:            nonrobust                                         \n",
      "====================================================================================\n",
      "                       coef    std err          z      P>|z|      [0.025      0.975]\n",
      "------------------------------------------------------------------------------------\n",
      "const                0.1154      0.003     41.456      0.000       0.110       0.121\n",
      "abdo_mass           -0.0069      0.000    -24.446      0.000      -0.007      -0.006\n",
      "length_scale        -0.0350      0.002    -16.924      0.000      -0.039      -0.031\n",
      "petiole_length      -0.1286      0.007    -19.598      0.000      -0.141      -0.116\n",
      "torsional_spring     0.0001      0.000      0.450      0.653      -0.000       0.001\n",
      "====================================================================================\n"
     ]
    }
   ],
   "source": [
    "print(res.summary())"
   ]
  },
  {
   "cell_type": "code",
   "execution_count": 26,
   "id": "53c784a0",
   "metadata": {},
   "outputs": [
    {
     "data": {
      "text/plain": [
       "const                0.000000e+00\n",
       "abdo_mass           5.581769e-132\n",
       "length_scale         2.975186e-64\n",
       "petiole_length       1.618221e-85\n",
       "torsional_spring     6.526606e-01\n",
       "dtype: float64"
      ]
     },
     "execution_count": 26,
     "metadata": {},
     "output_type": "execute_result"
    }
   ],
   "source": [
    "res.pvalues"
   ]
  },
  {
   "cell_type": "code",
   "execution_count": 31,
   "id": "04fdbecc",
   "metadata": {},
   "outputs": [],
   "source": [
    "# with Interaction terms\n",
    "df_interact = df.copy()\n",
    "df_interact['length_petiole'] = df['length_scale'] * df['petiole_length']\n",
    "df_interact['abdo_tor']=df['abdo_mass'] * df['torsional_spring']"
   ]
  },
  {
   "cell_type": "code",
   "execution_count": 30,
   "id": "4fd0e5d1",
   "metadata": {},
   "outputs": [
    {
     "data": {
      "text/html": [
       "<div>\n",
       "<style scoped>\n",
       "    .dataframe tbody tr th:only-of-type {\n",
       "        vertical-align: middle;\n",
       "    }\n",
       "\n",
       "    .dataframe tbody tr th {\n",
       "        vertical-align: top;\n",
       "    }\n",
       "\n",
       "    .dataframe thead th {\n",
       "        text-align: right;\n",
       "    }\n",
       "</style>\n",
       "<table border=\"1\" class=\"dataframe\">\n",
       "  <thead>\n",
       "    <tr style=\"text-align: right;\">\n",
       "      <th></th>\n",
       "      <th>Tracking_Error</th>\n",
       "      <th>abdo_mass</th>\n",
       "      <th>length_scale</th>\n",
       "      <th>petiole_length</th>\n",
       "      <th>torsional_spring</th>\n",
       "      <th>length_petiole</th>\n",
       "      <th>abdo_tor</th>\n",
       "    </tr>\n",
       "  </thead>\n",
       "  <tbody>\n",
       "    <tr>\n",
       "      <td>0</td>\n",
       "      <td>0.122015</td>\n",
       "      <td>0.1</td>\n",
       "      <td>1.0</td>\n",
       "      <td>0.0</td>\n",
       "      <td>0.1</td>\n",
       "      <td>0.0</td>\n",
       "      <td>0.01</td>\n",
       "    </tr>\n",
       "    <tr>\n",
       "      <td>1</td>\n",
       "      <td>0.118489</td>\n",
       "      <td>0.1</td>\n",
       "      <td>1.0</td>\n",
       "      <td>0.0</td>\n",
       "      <td>0.1</td>\n",
       "      <td>0.0</td>\n",
       "      <td>0.01</td>\n",
       "    </tr>\n",
       "    <tr>\n",
       "      <td>2</td>\n",
       "      <td>0.127112</td>\n",
       "      <td>0.1</td>\n",
       "      <td>1.0</td>\n",
       "      <td>0.0</td>\n",
       "      <td>0.1</td>\n",
       "      <td>0.0</td>\n",
       "      <td>0.01</td>\n",
       "    </tr>\n",
       "    <tr>\n",
       "      <td>3</td>\n",
       "      <td>0.118890</td>\n",
       "      <td>0.1</td>\n",
       "      <td>1.0</td>\n",
       "      <td>0.0</td>\n",
       "      <td>0.1</td>\n",
       "      <td>0.0</td>\n",
       "      <td>0.01</td>\n",
       "    </tr>\n",
       "    <tr>\n",
       "      <td>4</td>\n",
       "      <td>0.115918</td>\n",
       "      <td>0.1</td>\n",
       "      <td>1.0</td>\n",
       "      <td>0.0</td>\n",
       "      <td>0.1</td>\n",
       "      <td>0.0</td>\n",
       "      <td>0.01</td>\n",
       "    </tr>\n",
       "  </tbody>\n",
       "</table>\n",
       "</div>"
      ],
      "text/plain": [
       "   Tracking_Error  abdo_mass  length_scale  petiole_length  torsional_spring  \\\n",
       "0        0.122015        0.1           1.0             0.0               0.1   \n",
       "1        0.118489        0.1           1.0             0.0               0.1   \n",
       "2        0.127112        0.1           1.0             0.0               0.1   \n",
       "3        0.118890        0.1           1.0             0.0               0.1   \n",
       "4        0.115918        0.1           1.0             0.0               0.1   \n",
       "\n",
       "   length_petiole  abdo_tor  \n",
       "0             0.0      0.01  \n",
       "1             0.0      0.01  \n",
       "2             0.0      0.01  \n",
       "3             0.0      0.01  \n",
       "4             0.0      0.01  "
      ]
     },
     "execution_count": 30,
     "metadata": {},
     "output_type": "execute_result"
    }
   ],
   "source": [
    "df_interact.head()"
   ]
  },
  {
   "cell_type": "code",
   "execution_count": 33,
   "id": "82e404d4",
   "metadata": {},
   "outputs": [
    {
     "name": "stderr",
     "output_type": "stream",
     "text": [
      "C:\\Users\\Tanvi\\AppData\\Local\\Continuum\\anaconda3\\lib\\site-packages\\numpy\\core\\fromnumeric.py:2580: FutureWarning: Method .ptp is deprecated and will be removed in a future version. Use numpy.ptp instead.\n",
      "  return ptp(axis=axis, out=out, **kwargs)\n"
     ]
    }
   ],
   "source": [
    "y = df_interact['Tracking_Error']\n",
    "X = df_interact[['abdo_mass', 'length_scale', 'petiole_length', 'torsional_spring', 'length_petiole', 'abdo_tor']]\n",
    "exog, endog = sm.add_constant(X), y\n",
    "mod = sm.GLM(endog, exog,\n",
    "             family=sm.families.Gaussian())\n",
    "res_interact = mod.fit()"
   ]
  },
  {
   "cell_type": "code",
   "execution_count": 35,
   "id": "cd3bfdef",
   "metadata": {},
   "outputs": [
    {
     "name": "stdout",
     "output_type": "stream",
     "text": [
      "                 Generalized Linear Model Regression Results                  \n",
      "==============================================================================\n",
      "Dep. Variable:         Tracking_Error   No. Observations:                  680\n",
      "Model:                            GLM   Df Residuals:                      673\n",
      "Model Family:                Gaussian   Df Model:                            6\n",
      "Link Function:               identity   Scale:                      0.00055021\n",
      "Method:                          IRLS   Log-Likelihood:                 1590.4\n",
      "Date:                Wed, 21 Jul 2021   Deviance:                      0.37029\n",
      "Time:                        14:27:53   Pearson chi2:                    0.370\n",
      "No. Iterations:                     3                                         \n",
      "Covariance Type:            nonrobust                                         \n",
      "====================================================================================\n",
      "                       coef    std err          z      P>|z|      [0.025      0.975]\n",
      "------------------------------------------------------------------------------------\n",
      "const                0.1363      0.004     36.045      0.000       0.129       0.144\n",
      "abdo_mass           -0.0068      0.000    -19.772      0.000      -0.007      -0.006\n",
      "length_scale        -0.0547      0.003    -17.754      0.000      -0.061      -0.049\n",
      "petiole_length      -0.2395      0.015    -16.166      0.000      -0.269      -0.210\n",
      "torsional_spring     0.0002      0.000      0.550      0.582      -0.000       0.001\n",
      "length_petiole       0.1002      0.012      8.346      0.000       0.077       0.124\n",
      "abdo_tor          -5.16e-05   6.11e-05     -0.844      0.399      -0.000    6.82e-05\n",
      "====================================================================================\n"
     ]
    }
   ],
   "source": [
    "print(res_interact.summary())"
   ]
  },
  {
   "cell_type": "code",
   "execution_count": 36,
   "id": "deb0ddfe",
   "metadata": {},
   "outputs": [
    {
     "data": {
      "text/plain": [
       "const               1.651144e-284\n",
       "abdo_mass            5.147400e-87\n",
       "length_scale         1.604470e-70\n",
       "petiole_length       8.781606e-59\n",
       "torsional_spring     5.821024e-01\n",
       "length_petiole       7.088915e-17\n",
       "abdo_tor             3.987170e-01\n",
       "dtype: float64"
      ]
     },
     "execution_count": 36,
     "metadata": {},
     "output_type": "execute_result"
    }
   ],
   "source": [
    "res_interact.pvalues"
   ]
  },
  {
   "cell_type": "code",
   "execution_count": 41,
   "id": "330c4268",
   "metadata": {},
   "outputs": [
    {
     "name": "stdout",
     "output_type": "stream",
     "text": [
      "                 Generalized Linear Model Regression Results                  \n",
      "==============================================================================\n",
      "Dep. Variable:         Tracking_Error   No. Observations:                  680\n",
      "Model:                            GLM   Df Residuals:                      673\n",
      "Model Family:                Gaussian   Df Model:                            6\n",
      "Link Function:               identity   Scale:                      0.00055021\n",
      "Method:                          IRLS   Log-Likelihood:                 1590.4\n",
      "Date:                Wed, 21 Jul 2021   Deviance:                      0.37029\n",
      "Time:                        14:35:16   Pearson chi2:                    0.370\n",
      "No. Iterations:                     3                                         \n",
      "Covariance Type:            nonrobust                                         \n",
      "===============================================================================================\n",
      "                                  coef    std err          z      P>|z|      [0.025      0.975]\n",
      "-----------------------------------------------------------------------------------------------\n",
      "Intercept                       0.1363      0.004     36.045      0.000       0.129       0.144\n",
      "abdo_mass                      -0.0068      0.000    -19.772      0.000      -0.007      -0.006\n",
      "torsional_spring                0.0002      0.000      0.550      0.582      -0.000       0.001\n",
      "abdo_mass:torsional_spring   -5.16e-05   6.11e-05     -0.844      0.399      -0.000    6.82e-05\n",
      "length_scale                   -0.0547      0.003    -17.754      0.000      -0.061      -0.049\n",
      "petiole_length                 -0.2395      0.015    -16.166      0.000      -0.269      -0.210\n",
      "length_scale:petiole_length     0.1002      0.012      8.346      0.000       0.077       0.124\n",
      "===============================================================================================\n"
     ]
    }
   ],
   "source": [
    "# doing the same thing but with a formula!\n",
    "formula = 'Tracking_Error ~ abdo_mass*torsional_spring + length_scale*petiole_length'\n",
    "model = smf.glm(formula = formula, data=df, family=sm.families.Gaussian())\n",
    "result = model.fit()\n",
    "print(result.summary())"
   ]
  },
  {
   "cell_type": "code",
   "execution_count": 42,
   "id": "ebf337b0",
   "metadata": {},
   "outputs": [
    {
     "data": {
      "text/plain": [
       "Intercept                      1.651144e-284\n",
       "abdo_mass                       5.147400e-87\n",
       "torsional_spring                5.821024e-01\n",
       "abdo_mass:torsional_spring      3.987170e-01\n",
       "length_scale                    1.604470e-70\n",
       "petiole_length                  8.781606e-59\n",
       "length_scale:petiole_length     7.088915e-17\n",
       "dtype: float64"
      ]
     },
     "execution_count": 42,
     "metadata": {},
     "output_type": "execute_result"
    }
   ],
   "source": [
    "result.pvalues"
   ]
  },
  {
   "cell_type": "code",
   "execution_count": null,
   "id": "1430e726",
   "metadata": {},
   "outputs": [],
   "source": []
  }
 ],
 "metadata": {
  "kernelspec": {
   "display_name": "Python 3",
   "language": "python",
   "name": "python3"
  },
  "language_info": {
   "codemirror_mode": {
    "name": "ipython",
    "version": 3
   },
   "file_extension": ".py",
   "mimetype": "text/x-python",
   "name": "python",
   "nbconvert_exporter": "python",
   "pygments_lexer": "ipython3",
   "version": "3.6.5"
  }
 },
 "nbformat": 4,
 "nbformat_minor": 5
}
