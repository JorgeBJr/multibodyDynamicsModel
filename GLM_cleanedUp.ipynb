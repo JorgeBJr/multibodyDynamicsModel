{
 "cells": [
  {
   "cell_type": "code",
   "execution_count": 1,
   "id": "1212b476",
   "metadata": {},
   "outputs": [],
   "source": [
    "import pandas as pd"
   ]
  },
  {
   "cell_type": "code",
   "execution_count": 2,
   "id": "d34e18dc",
   "metadata": {},
   "outputs": [],
   "source": [
    "import statsmodels.formula.api as smf\n",
    "import statsmodels.api as sm\n",
    "import statsmodels.stats.api as sms\n",
    "import matplotlib.pyplot as plt\n",
    "import statsmodels"
   ]
  },
  {
   "cell_type": "markdown",
   "id": "664ddab3",
   "metadata": {},
   "source": [
    "# vertically oscillating"
   ]
  },
  {
   "cell_type": "code",
   "execution_count": 3,
   "id": "376777a8",
   "metadata": {},
   "outputs": [
    {
     "data": {
      "text/html": [
       "<div>\n",
       "<style scoped>\n",
       "    .dataframe tbody tr th:only-of-type {\n",
       "        vertical-align: middle;\n",
       "    }\n",
       "\n",
       "    .dataframe tbody tr th {\n",
       "        vertical-align: top;\n",
       "    }\n",
       "\n",
       "    .dataframe thead th {\n",
       "        text-align: right;\n",
       "    }\n",
       "</style>\n",
       "<table border=\"1\" class=\"dataframe\">\n",
       "  <thead>\n",
       "    <tr style=\"text-align: right;\">\n",
       "      <th></th>\n",
       "      <th>ndTE</th>\n",
       "      <th>work</th>\n",
       "      <th>cost</th>\n",
       "      <th>abdominal_mass</th>\n",
       "      <th>spring_constant</th>\n",
       "      <th>length_scale</th>\n",
       "      <th>petiole_length</th>\n",
       "    </tr>\n",
       "  </thead>\n",
       "  <tbody>\n",
       "    <tr>\n",
       "      <td>0</td>\n",
       "      <td>0.122015</td>\n",
       "      <td>0.210462</td>\n",
       "      <td>38.338877</td>\n",
       "      <td>0.1</td>\n",
       "      <td>0.1</td>\n",
       "      <td>1.0</td>\n",
       "      <td>0.0</td>\n",
       "    </tr>\n",
       "    <tr>\n",
       "      <td>1</td>\n",
       "      <td>0.118489</td>\n",
       "      <td>0.211554</td>\n",
       "      <td>36.769419</td>\n",
       "      <td>0.1</td>\n",
       "      <td>0.1</td>\n",
       "      <td>1.0</td>\n",
       "      <td>0.0</td>\n",
       "    </tr>\n",
       "    <tr>\n",
       "      <td>2</td>\n",
       "      <td>0.127112</td>\n",
       "      <td>0.210783</td>\n",
       "      <td>38.055829</td>\n",
       "      <td>0.1</td>\n",
       "      <td>0.1</td>\n",
       "      <td>1.0</td>\n",
       "      <td>0.0</td>\n",
       "    </tr>\n",
       "    <tr>\n",
       "      <td>3</td>\n",
       "      <td>0.118890</td>\n",
       "      <td>0.222544</td>\n",
       "      <td>38.736388</td>\n",
       "      <td>0.1</td>\n",
       "      <td>0.1</td>\n",
       "      <td>1.0</td>\n",
       "      <td>0.0</td>\n",
       "    </tr>\n",
       "    <tr>\n",
       "      <td>4</td>\n",
       "      <td>0.115918</td>\n",
       "      <td>0.211331</td>\n",
       "      <td>39.826479</td>\n",
       "      <td>0.1</td>\n",
       "      <td>0.1</td>\n",
       "      <td>1.0</td>\n",
       "      <td>0.0</td>\n",
       "    </tr>\n",
       "  </tbody>\n",
       "</table>\n",
       "</div>"
      ],
      "text/plain": [
       "       ndTE      work       cost  abdominal_mass  spring_constant  \\\n",
       "0  0.122015  0.210462  38.338877             0.1              0.1   \n",
       "1  0.118489  0.211554  36.769419             0.1              0.1   \n",
       "2  0.127112  0.210783  38.055829             0.1              0.1   \n",
       "3  0.118890  0.222544  38.736388             0.1              0.1   \n",
       "4  0.115918  0.211331  39.826479             0.1              0.1   \n",
       "\n",
       "   length_scale  petiole_length  \n",
       "0           1.0             0.0  \n",
       "1           1.0             0.0  \n",
       "2           1.0             0.0  \n",
       "3           1.0             0.0  \n",
       "4           1.0             0.0  "
      ]
     },
     "execution_count": 3,
     "metadata": {},
     "output_type": "execute_result"
    }
   ],
   "source": [
    "df = pd.read_csv('./dataFolder/AllData_vertically_oscillating.csv')\n",
    "df.head()"
   ]
  },
  {
   "cell_type": "code",
   "execution_count": 4,
   "id": "511b7f19",
   "metadata": {},
   "outputs": [],
   "source": [
    "X = df[['abdominal_mass', 'length_scale', 'petiole_length', 'spring_constant']]"
   ]
  },
  {
   "cell_type": "code",
   "execution_count": 5,
   "id": "330c4268",
   "metadata": {},
   "outputs": [
    {
     "name": "stdout",
     "output_type": "stream",
     "text": [
      "                            OLS Regression Results                            \n",
      "==============================================================================\n",
      "Dep. Variable:                   ndTE   R-squared:                       0.658\n",
      "Model:                            OLS   Adj. R-squared:                  0.655\n",
      "Method:                 Least Squares   F-statistic:                     215.8\n",
      "Date:                Thu, 29 Jul 2021   Prob (F-statistic):          3.78e-153\n",
      "Time:                        11:36:57   Log-Likelihood:                 1590.4\n",
      "No. Observations:                 680   AIC:                            -3167.\n",
      "Df Residuals:                     673   BIC:                            -3135.\n",
      "Df Model:                           6                                         \n",
      "Covariance Type:            nonrobust                                         \n",
      "==================================================================================================\n",
      "                                     coef    std err          t      P>|t|      [0.025      0.975]\n",
      "--------------------------------------------------------------------------------------------------\n",
      "Intercept                          0.1363      0.004     36.045      0.000       0.129       0.144\n",
      "abdominal_mass                    -0.0068      0.000    -19.772      0.000      -0.007      -0.006\n",
      "spring_constant                    0.0002      0.000      0.550      0.582      -0.000       0.001\n",
      "abdominal_mass:spring_constant  -5.16e-05   6.11e-05     -0.844      0.399      -0.000    6.85e-05\n",
      "length_scale                      -0.0547      0.003    -17.754      0.000      -0.061      -0.049\n",
      "petiole_length                    -0.2395      0.015    -16.166      0.000      -0.269      -0.210\n",
      "length_scale:petiole_length        0.1002      0.012      8.346      0.000       0.077       0.124\n",
      "==============================================================================\n",
      "Omnibus:                       11.339   Durbin-Watson:                   0.047\n",
      "Prob(Omnibus):                  0.003   Jarque-Bera (JB):                6.763\n",
      "Skew:                          -0.005   Prob(JB):                       0.0340\n",
      "Kurtosis:                       2.512   Cond. No.                         523.\n",
      "==============================================================================\n",
      "\n",
      "Warnings:\n",
      "[1] Standard Errors assume that the covariance matrix of the errors is correctly specified.\n"
     ]
    }
   ],
   "source": [
    "# add two interaction term\n",
    "y = df['ndTE']\n",
    "formula = 'ndTE ~ abdominal_mass*spring_constant + length_scale*petiole_length'\n",
    "model = smf.ols(formula = formula, data=df)\n",
    "result = model.fit()\n",
    "print(result.summary())"
   ]
  },
  {
   "cell_type": "code",
   "execution_count": 6,
   "id": "ebf337b0",
   "metadata": {},
   "outputs": [
    {
     "data": {
      "text/plain": [
       "Intercept                         2.824747e-159\n",
       "abdominal_mass                     5.922190e-69\n",
       "spring_constant                    5.822850e-01\n",
       "abdominal_mass:spring_constant     3.990169e-01\n",
       "length_scale                       3.940395e-58\n",
       "petiole_length                     6.542726e-50\n",
       "length_scale:petiole_length        4.020455e-16\n",
       "dtype: float64"
      ]
     },
     "execution_count": 6,
     "metadata": {},
     "output_type": "execute_result"
    }
   ],
   "source": [
    "result.pvalues"
   ]
  },
  {
   "cell_type": "code",
   "execution_count": 7,
   "id": "0924110e",
   "metadata": {},
   "outputs": [
    {
     "data": {
      "text/plain": [
       "[('F statistic', 0.08854227681054615), ('p-value', 0.9999999999999999)]"
      ]
     },
     "execution_count": 7,
     "metadata": {},
     "output_type": "execute_result"
    }
   ],
   "source": [
    "# is the error variance is similar or not - hereroscedasticity tests\n",
    "name = [\"F statistic\", \"p-value\"]\n",
    "test = sms.het_goldfeldquandt(result.resid, result.model.exog)\n",
    "list(zip(name, test))"
   ]
  },
  {
   "cell_type": "code",
   "execution_count": 8,
   "id": "12a2dcf7",
   "metadata": {},
   "outputs": [
    {
     "data": {
      "text/plain": [
       "[('t value', 662.6498322537519), ('p value', 7.071588052428682e-140)]"
      ]
     },
     "execution_count": 8,
     "metadata": {},
     "output_type": "execute_result"
    }
   ],
   "source": [
    "# check is the linear specification is correct\n",
    "\n",
    "name = [\"t value\", \"p value\"]\n",
    "test = statsmodels.stats.diagnostic.linear_lm(result.resid, model.exog)\n",
    "list(zip(name, test))"
   ]
  },
  {
   "cell_type": "code",
   "execution_count": 7,
   "id": "1430e726",
   "metadata": {},
   "outputs": [
    {
     "name": "stdout",
     "output_type": "stream",
     "text": [
      "                            OLS Regression Results                            \n",
      "==============================================================================\n",
      "Dep. Variable:                   work   R-squared:                       0.880\n",
      "Model:                            OLS   Adj. R-squared:                  0.879\n",
      "Method:                 Least Squares   F-statistic:                     823.3\n",
      "Date:                Thu, 29 Jul 2021   Prob (F-statistic):          4.80e-306\n",
      "Time:                        11:59:53   Log-Likelihood:                -711.66\n",
      "No. Observations:                 680   AIC:                             1437.\n",
      "Df Residuals:                     673   BIC:                             1469.\n",
      "Df Model:                           6                                         \n",
      "Covariance Type:            nonrobust                                         \n",
      "==================================================================================================\n",
      "                                     coef    std err          t      P>|t|      [0.025      0.975]\n",
      "--------------------------------------------------------------------------------------------------\n",
      "Intercept                         -3.9803      0.112    -35.641      0.000      -4.200      -3.761\n",
      "abdominal_mass                    -0.0580      0.010     -5.720      0.000      -0.078      -0.038\n",
      "spring_constant                   -0.0653      0.010     -6.443      0.000      -0.085      -0.045\n",
      "abdominal_mass:spring_constant     0.0059      0.002      3.245      0.001       0.002       0.009\n",
      "length_scale                       4.8850      0.091     53.738      0.000       4.707       5.063\n",
      "petiole_length                     5.9160      0.437     13.524      0.000       5.057       6.775\n",
      "length_scale:petiole_length       -5.2854      0.355    -14.903      0.000      -5.982      -4.589\n",
      "==============================================================================\n",
      "Omnibus:                       55.039   Durbin-Watson:                   0.045\n",
      "Prob(Omnibus):                  0.000   Jarque-Bera (JB):               67.510\n",
      "Skew:                           0.771   Prob(JB):                     2.19e-15\n",
      "Kurtosis:                       2.936   Cond. No.                         523.\n",
      "==============================================================================\n",
      "\n",
      "Warnings:\n",
      "[1] Standard Errors assume that the covariance matrix of the errors is correctly specified.\n"
     ]
    }
   ],
   "source": [
    "y = df['work']\n",
    "formula = 'work ~ abdominal_mass*spring_constant + length_scale*petiole_length'\n",
    "model = smf.ols(formula = formula, data=df)\n",
    "result = model.fit()\n",
    "print(result.summary())"
   ]
  },
  {
   "cell_type": "code",
   "execution_count": 8,
   "id": "6c51d148",
   "metadata": {},
   "outputs": [
    {
     "data": {
      "text/plain": [
       "Intercept                         4.095407e-157\n",
       "abdominal_mass                     1.602505e-08\n",
       "spring_constant                    2.225490e-10\n",
       "abdominal_mass:spring_constant     1.233514e-03\n",
       "length_scale                      1.159264e-245\n",
       "petiole_length                     4.862947e-37\n",
       "length_scale:petiole_length        1.288715e-43\n",
       "dtype: float64"
      ]
     },
     "execution_count": 8,
     "metadata": {},
     "output_type": "execute_result"
    }
   ],
   "source": [
    "result.pvalues"
   ]
  },
  {
   "cell_type": "code",
   "execution_count": 11,
   "id": "546fbe98",
   "metadata": {},
   "outputs": [
    {
     "data": {
      "text/plain": [
       "[('F statistic', 733.5620363984044), ('p-value', 0.0)]"
      ]
     },
     "execution_count": 11,
     "metadata": {},
     "output_type": "execute_result"
    }
   ],
   "source": [
    "# is the error variance is similar or not - hereroscedasticity tests\n",
    "name = [\"F statistic\", \"p-value\"]\n",
    "test = sms.het_goldfeldquandt(result.resid, result.model.exog)\n",
    "list(zip(name, test))"
   ]
  },
  {
   "cell_type": "code",
   "execution_count": 12,
   "id": "4dbcce3d",
   "metadata": {},
   "outputs": [
    {
     "data": {
      "text/plain": [
       "[('t value', 654.3501864167458), ('p value', 4.37368674758542e-138)]"
      ]
     },
     "execution_count": 12,
     "metadata": {},
     "output_type": "execute_result"
    }
   ],
   "source": [
    "# check is the linear specification is correct\n",
    "\n",
    "name = [\"t value\", \"p value\"]\n",
    "test = statsmodels.stats.diagnostic.linear_lm(result.resid, model.exog)\n",
    "list(zip(name, test))"
   ]
  },
  {
   "cell_type": "code",
   "execution_count": 9,
   "id": "d0b806cf",
   "metadata": {},
   "outputs": [
    {
     "name": "stdout",
     "output_type": "stream",
     "text": [
      "                            OLS Regression Results                            \n",
      "==============================================================================\n",
      "Dep. Variable:                   cost   R-squared:                       0.962\n",
      "Model:                            OLS   Adj. R-squared:                  0.962\n",
      "Method:                 Least Squares   F-statistic:                     2856.\n",
      "Date:                Thu, 29 Jul 2021   Prob (F-statistic):               0.00\n",
      "Time:                        12:06:49   Log-Likelihood:                -2768.9\n",
      "No. Observations:                 680   AIC:                             5552.\n",
      "Df Residuals:                     673   BIC:                             5584.\n",
      "Df Model:                           6                                         \n",
      "Covariance Type:            nonrobust                                         \n",
      "==================================================================================================\n",
      "                                     coef    std err          t      P>|t|      [0.025      0.975]\n",
      "--------------------------------------------------------------------------------------------------\n",
      "Intercept                        -97.3372      2.301    -42.307      0.000    -101.855     -92.820\n",
      "abdominal_mass                     7.2360      0.209     34.648      0.000       6.826       7.646\n",
      "spring_constant                   -1.4045      0.209     -6.725      0.000      -1.815      -0.994\n",
      "abdominal_mass:spring_constant     0.1831      0.037      4.922      0.000       0.110       0.256\n",
      "length_scale                     158.5716      1.873     84.671      0.000     154.894     162.249\n",
      "petiole_length                    98.1725      9.012     10.893      0.000      80.477     115.868\n",
      "length_scale:petiole_length      -60.7136      7.307     -8.310      0.000     -75.060     -46.367\n",
      "==============================================================================\n",
      "Omnibus:                       19.838   Durbin-Watson:                   0.396\n",
      "Prob(Omnibus):                  0.000   Jarque-Bera (JB):               21.042\n",
      "Skew:                           0.431   Prob(JB):                     2.70e-05\n",
      "Kurtosis:                       3.011   Cond. No.                         523.\n",
      "==============================================================================\n",
      "\n",
      "Warnings:\n",
      "[1] Standard Errors assume that the covariance matrix of the errors is correctly specified.\n"
     ]
    }
   ],
   "source": [
    "y = df['cost']\n",
    "formula = 'cost ~ abdominal_mass*spring_constant + length_scale*petiole_length'\n",
    "model = smf.ols(formula = formula, data=df)\n",
    "result = model.fit()\n",
    "print(result.summary())"
   ]
  },
  {
   "cell_type": "code",
   "execution_count": 10,
   "id": "98b492cc",
   "metadata": {},
   "outputs": [
    {
     "data": {
      "text/plain": [
       "Intercept                         9.168632e-192\n",
       "abdominal_mass                    9.259754e-152\n",
       "spring_constant                    3.749781e-11\n",
       "abdominal_mass:spring_constant     1.081050e-06\n",
       "length_scale                       0.000000e+00\n",
       "petiole_length                     1.458673e-25\n",
       "length_scale:petiole_length        5.296836e-16\n",
       "dtype: float64"
      ]
     },
     "execution_count": 10,
     "metadata": {},
     "output_type": "execute_result"
    }
   ],
   "source": [
    "result.pvalues"
   ]
  },
  {
   "cell_type": "code",
   "execution_count": 15,
   "id": "19dfb628",
   "metadata": {},
   "outputs": [
    {
     "data": {
      "text/plain": [
       "[('F statistic', 0.9565319238599701), ('p-value', 0.6579022792849117)]"
      ]
     },
     "execution_count": 15,
     "metadata": {},
     "output_type": "execute_result"
    }
   ],
   "source": [
    "# is the error variance is similar or not - hereroscedasticity tests\n",
    "name = [\"F statistic\", \"p-value\"]\n",
    "test = sms.het_goldfeldquandt(result.resid, result.model.exog)\n",
    "list(zip(name, test))"
   ]
  },
  {
   "cell_type": "code",
   "execution_count": 16,
   "id": "bc9685d2",
   "metadata": {},
   "outputs": [
    {
     "data": {
      "text/plain": [
       "[('t value', 548.5095690724313), ('p value', 2.958734052986039e-115)]"
      ]
     },
     "execution_count": 16,
     "metadata": {},
     "output_type": "execute_result"
    }
   ],
   "source": [
    "# check is the linear specification is correct\n",
    "\n",
    "name = [\"t value\", \"p value\"]\n",
    "test = statsmodels.stats.diagnostic.linear_lm(result.resid, model.exog)\n",
    "list(zip(name, test))"
   ]
  },
  {
   "cell_type": "markdown",
   "id": "cf11185e",
   "metadata": {},
   "source": [
    "# hovering"
   ]
  },
  {
   "cell_type": "code",
   "execution_count": 11,
   "id": "042baed3",
   "metadata": {},
   "outputs": [
    {
     "data": {
      "text/html": [
       "<div>\n",
       "<style scoped>\n",
       "    .dataframe tbody tr th:only-of-type {\n",
       "        vertical-align: middle;\n",
       "    }\n",
       "\n",
       "    .dataframe tbody tr th {\n",
       "        vertical-align: top;\n",
       "    }\n",
       "\n",
       "    .dataframe thead th {\n",
       "        text-align: right;\n",
       "    }\n",
       "</style>\n",
       "<table border=\"1\" class=\"dataframe\">\n",
       "  <thead>\n",
       "    <tr style=\"text-align: right;\">\n",
       "      <th></th>\n",
       "      <th>ndTE</th>\n",
       "      <th>work</th>\n",
       "      <th>cost</th>\n",
       "      <th>abdominal_mass</th>\n",
       "      <th>spring_constant</th>\n",
       "      <th>length_scale</th>\n",
       "      <th>petiole_length</th>\n",
       "    </tr>\n",
       "  </thead>\n",
       "  <tbody>\n",
       "    <tr>\n",
       "      <td>0</td>\n",
       "      <td>0.647685</td>\n",
       "      <td>0.000210</td>\n",
       "      <td>41.536337</td>\n",
       "      <td>0.1</td>\n",
       "      <td>0.1</td>\n",
       "      <td>1.0</td>\n",
       "      <td>0.0</td>\n",
       "    </tr>\n",
       "    <tr>\n",
       "      <td>1</td>\n",
       "      <td>0.700724</td>\n",
       "      <td>0.000201</td>\n",
       "      <td>41.135751</td>\n",
       "      <td>0.1</td>\n",
       "      <td>0.1</td>\n",
       "      <td>1.0</td>\n",
       "      <td>0.0</td>\n",
       "    </tr>\n",
       "    <tr>\n",
       "      <td>2</td>\n",
       "      <td>0.656883</td>\n",
       "      <td>0.000205</td>\n",
       "      <td>45.212708</td>\n",
       "      <td>0.1</td>\n",
       "      <td>0.1</td>\n",
       "      <td>1.0</td>\n",
       "      <td>0.0</td>\n",
       "    </tr>\n",
       "    <tr>\n",
       "      <td>3</td>\n",
       "      <td>0.693074</td>\n",
       "      <td>0.000199</td>\n",
       "      <td>41.141273</td>\n",
       "      <td>0.1</td>\n",
       "      <td>0.1</td>\n",
       "      <td>1.0</td>\n",
       "      <td>0.0</td>\n",
       "    </tr>\n",
       "    <tr>\n",
       "      <td>4</td>\n",
       "      <td>0.672795</td>\n",
       "      <td>0.000198</td>\n",
       "      <td>40.021376</td>\n",
       "      <td>0.1</td>\n",
       "      <td>0.1</td>\n",
       "      <td>1.0</td>\n",
       "      <td>0.0</td>\n",
       "    </tr>\n",
       "  </tbody>\n",
       "</table>\n",
       "</div>"
      ],
      "text/plain": [
       "       ndTE      work       cost  abdominal_mass  spring_constant  \\\n",
       "0  0.647685  0.000210  41.536337             0.1              0.1   \n",
       "1  0.700724  0.000201  41.135751             0.1              0.1   \n",
       "2  0.656883  0.000205  45.212708             0.1              0.1   \n",
       "3  0.693074  0.000199  41.141273             0.1              0.1   \n",
       "4  0.672795  0.000198  40.021376             0.1              0.1   \n",
       "\n",
       "   length_scale  petiole_length  \n",
       "0           1.0             0.0  \n",
       "1           1.0             0.0  \n",
       "2           1.0             0.0  \n",
       "3           1.0             0.0  \n",
       "4           1.0             0.0  "
      ]
     },
     "execution_count": 11,
     "metadata": {},
     "output_type": "execute_result"
    }
   ],
   "source": [
    "df = pd.read_csv('./dataFolder/AllData_hovering.csv')\n",
    "df.head()"
   ]
  },
  {
   "cell_type": "code",
   "execution_count": 12,
   "id": "65e2a053",
   "metadata": {},
   "outputs": [],
   "source": [
    "X = df[['abdominal_mass', 'length_scale', 'petiole_length', 'spring_constant']]"
   ]
  },
  {
   "cell_type": "code",
   "execution_count": 13,
   "id": "e97679c4",
   "metadata": {},
   "outputs": [
    {
     "name": "stdout",
     "output_type": "stream",
     "text": [
      "                            OLS Regression Results                            \n",
      "==============================================================================\n",
      "Dep. Variable:                   ndTE   R-squared:                       0.493\n",
      "Model:                            OLS   Adj. R-squared:                  0.489\n",
      "Method:                 Least Squares   F-statistic:                     115.6\n",
      "Date:                Thu, 29 Jul 2021   Prob (F-statistic):          1.07e-101\n",
      "Time:                        12:29:40   Log-Likelihood:                 408.27\n",
      "No. Observations:                 720   AIC:                            -802.5\n",
      "Df Residuals:                     713   BIC:                            -770.5\n",
      "Df Model:                           6                                         \n",
      "Covariance Type:            nonrobust                                         \n",
      "==================================================================================================\n",
      "                                     coef    std err          t      P>|t|      [0.025      0.975]\n",
      "--------------------------------------------------------------------------------------------------\n",
      "Intercept                          0.4577      0.022     21.033      0.000       0.415       0.500\n",
      "abdominal_mass                    -0.0322      0.002    -16.163      0.000      -0.036      -0.028\n",
      "spring_constant                    0.0078      0.002      3.900      0.000       0.004       0.012\n",
      "abdominal_mass:spring_constant    -0.0008      0.000     -2.360      0.019      -0.002      -0.000\n",
      "length_scale                      -0.0814      0.018     -4.507      0.000      -0.117      -0.046\n",
      "petiole_length                    -0.8460      0.086     -9.805      0.000      -1.015      -0.677\n",
      "length_scale:petiole_length        0.2380      0.071      3.374      0.001       0.099       0.376\n",
      "==============================================================================\n",
      "Omnibus:                       66.482   Durbin-Watson:                   0.043\n",
      "Prob(Omnibus):                  0.000   Jarque-Bera (JB):               83.926\n",
      "Skew:                           0.835   Prob(JB):                     5.97e-19\n",
      "Kurtosis:                       3.075   Cond. No.                         520.\n",
      "==============================================================================\n",
      "\n",
      "Warnings:\n",
      "[1] Standard Errors assume that the covariance matrix of the errors is correctly specified.\n"
     ]
    }
   ],
   "source": [
    "# add two interaction term\n",
    "y = df['ndTE']\n",
    "formula = 'ndTE ~ abdominal_mass*spring_constant + length_scale*petiole_length'\n",
    "model = smf.ols(formula = formula, data=df)\n",
    "result = model.fit()\n",
    "print(result.summary())"
   ]
  },
  {
   "cell_type": "code",
   "execution_count": 14,
   "id": "750228b2",
   "metadata": {},
   "outputs": [
    {
     "data": {
      "text/plain": [
       "Intercept                         8.805088e-77\n",
       "abdominal_mass                    2.665695e-50\n",
       "spring_constant                   1.053008e-04\n",
       "abdominal_mass:spring_constant    1.852378e-02\n",
       "length_scale                      7.666801e-06\n",
       "petiole_length                    2.228747e-21\n",
       "length_scale:petiole_length       7.814085e-04\n",
       "dtype: float64"
      ]
     },
     "execution_count": 14,
     "metadata": {},
     "output_type": "execute_result"
    }
   ],
   "source": [
    "result.pvalues"
   ]
  },
  {
   "cell_type": "code",
   "execution_count": 15,
   "id": "851ace84",
   "metadata": {},
   "outputs": [
    {
     "data": {
      "text/plain": [
       "[('F statistic', 0.017373121067212317), ('p-value', 0.9999999999999999)]"
      ]
     },
     "execution_count": 15,
     "metadata": {},
     "output_type": "execute_result"
    }
   ],
   "source": [
    "# is the error variance is similar or not - hereroscedasticity tests\n",
    "name = [\"F statistic\", \"p-value\"]\n",
    "test = sms.het_goldfeldquandt(result.resid, result.model.exog)\n",
    "list(zip(name, test))"
   ]
  },
  {
   "cell_type": "code",
   "execution_count": 16,
   "id": "3da01cf3",
   "metadata": {},
   "outputs": [
    {
     "data": {
      "text/plain": [
       "[('t value', 712.7671558967562), ('p value', 1.0710783616508138e-150)]"
      ]
     },
     "execution_count": 16,
     "metadata": {},
     "output_type": "execute_result"
    }
   ],
   "source": [
    "# check is the linear specification is correct\n",
    "\n",
    "name = [\"t value\", \"p value\"]\n",
    "test = statsmodels.stats.diagnostic.linear_lm(result.resid, model.exog)\n",
    "list(zip(name, test))"
   ]
  },
  {
   "cell_type": "code",
   "execution_count": 17,
   "id": "30fba332",
   "metadata": {},
   "outputs": [
    {
     "name": "stdout",
     "output_type": "stream",
     "text": [
      "                            OLS Regression Results                            \n",
      "==============================================================================\n",
      "Dep. Variable:                   work   R-squared:                       0.866\n",
      "Model:                            OLS   Adj. R-squared:                  0.865\n",
      "Method:                 Least Squares   F-statistic:                     768.9\n",
      "Date:                Thu, 29 Jul 2021   Prob (F-statistic):          2.12e-307\n",
      "Time:                        12:29:49   Log-Likelihood:                -769.48\n",
      "No. Observations:                 720   AIC:                             1553.\n",
      "Df Residuals:                     713   BIC:                             1585.\n",
      "Df Model:                           6                                         \n",
      "Covariance Type:            nonrobust                                         \n",
      "==================================================================================================\n",
      "                                     coef    std err          t      P>|t|      [0.025      0.975]\n",
      "--------------------------------------------------------------------------------------------------\n",
      "Intercept                         -4.1330      0.112    -36.998      0.000      -4.352      -3.914\n",
      "abdominal_mass                    -0.0631      0.010     -6.163      0.000      -0.083      -0.043\n",
      "spring_constant                   -0.0631      0.010     -6.162      0.000      -0.083      -0.043\n",
      "abdominal_mass:spring_constant     0.0057      0.002      3.089      0.002       0.002       0.009\n",
      "length_scale                       4.8336      0.093     52.125      0.000       4.651       5.016\n",
      "petiole_length                     6.6415      0.443     14.996      0.000       5.772       7.511\n",
      "length_scale:petiole_length       -5.5298      0.362    -15.273      0.000      -6.241      -4.819\n",
      "==============================================================================\n",
      "Omnibus:                       98.862   Durbin-Watson:                   0.045\n",
      "Prob(Omnibus):                  0.000   Jarque-Bera (JB):              137.829\n",
      "Skew:                           1.040   Prob(JB):                     1.18e-30\n",
      "Kurtosis:                       3.518   Cond. No.                         520.\n",
      "==============================================================================\n",
      "\n",
      "Warnings:\n",
      "[1] Standard Errors assume that the covariance matrix of the errors is correctly specified.\n"
     ]
    }
   ],
   "source": [
    "# add two interaction term\n",
    "y = df['work']\n",
    "formula = 'work ~ abdominal_mass*spring_constant + length_scale*petiole_length'\n",
    "model = smf.ols(formula = formula, data=df)\n",
    "result = model.fit()\n",
    "print(result.summary())"
   ]
  },
  {
   "cell_type": "code",
   "execution_count": 18,
   "id": "f6788c7f",
   "metadata": {},
   "outputs": [
    {
     "data": {
      "text/plain": [
       "Intercept                         4.630745e-168\n",
       "abdominal_mass                     1.196009e-09\n",
       "spring_constant                    1.197474e-09\n",
       "abdominal_mass:spring_constant     2.083802e-03\n",
       "length_scale                      2.079187e-245\n",
       "petiole_length                     2.189303e-44\n",
       "length_scale:petiole_length        9.040791e-46\n",
       "dtype: float64"
      ]
     },
     "execution_count": 18,
     "metadata": {},
     "output_type": "execute_result"
    }
   ],
   "source": [
    "result.pvalues"
   ]
  },
  {
   "cell_type": "code",
   "execution_count": 19,
   "id": "15792573",
   "metadata": {},
   "outputs": [
    {
     "data": {
      "text/plain": [
       "[('F statistic', 1315805364.5899818), ('p-value', 0.0)]"
      ]
     },
     "execution_count": 19,
     "metadata": {},
     "output_type": "execute_result"
    }
   ],
   "source": [
    "# is the error variance is similar or not - hereroscedasticity tests\n",
    "name = [\"F statistic\", \"p-value\"]\n",
    "test = sms.het_goldfeldquandt(result.resid, result.model.exog)\n",
    "list(zip(name, test))"
   ]
  },
  {
   "cell_type": "code",
   "execution_count": 20,
   "id": "513face2",
   "metadata": {},
   "outputs": [
    {
     "data": {
      "text/plain": [
       "[('t value', 685.0856183900552), ('p value', 1.0150409426733188e-144)]"
      ]
     },
     "execution_count": 20,
     "metadata": {},
     "output_type": "execute_result"
    }
   ],
   "source": [
    "# check is the linear specification is correct\n",
    "\n",
    "name = [\"t value\", \"p value\"]\n",
    "test = statsmodels.stats.diagnostic.linear_lm(result.resid, model.exog)\n",
    "list(zip(name, test))"
   ]
  },
  {
   "cell_type": "code",
   "execution_count": 21,
   "id": "c5dfa924",
   "metadata": {},
   "outputs": [
    {
     "name": "stdout",
     "output_type": "stream",
     "text": [
      "                            OLS Regression Results                            \n",
      "==============================================================================\n",
      "Dep. Variable:                   cost   R-squared:                       0.967\n",
      "Model:                            OLS   Adj. R-squared:                  0.967\n",
      "Method:                 Least Squares   F-statistic:                     3485.\n",
      "Date:                Thu, 29 Jul 2021   Prob (F-statistic):               0.00\n",
      "Time:                        12:29:52   Log-Likelihood:                -3160.5\n",
      "No. Observations:                 720   AIC:                             6335.\n",
      "Df Residuals:                     713   BIC:                             6367.\n",
      "Df Model:                           6                                         \n",
      "Covariance Type:            nonrobust                                         \n",
      "==================================================================================================\n",
      "                                     coef    std err          t      P>|t|      [0.025      0.975]\n",
      "--------------------------------------------------------------------------------------------------\n",
      "Intercept                        -97.9502      3.093    -31.672      0.000    -104.022     -91.878\n",
      "abdominal_mass                    21.0860      0.283     74.385      0.000      20.529      21.643\n",
      "spring_constant                   -1.2149      0.283     -4.286      0.000      -1.771      -0.658\n",
      "abdominal_mass:spring_constant     0.3297      0.051      6.473      0.000       0.230       0.430\n",
      "length_scale                     168.2932      2.567     65.554      0.000     163.253     173.333\n",
      "petiole_length                    58.7830     12.262      4.794      0.000      34.710      82.856\n",
      "length_scale:petiole_length       36.7959     10.024      3.671      0.000      17.116      56.476\n",
      "==============================================================================\n",
      "Omnibus:                       51.280   Durbin-Watson:                   0.617\n",
      "Prob(Omnibus):                  0.000   Jarque-Bera (JB):              127.284\n",
      "Skew:                           0.375   Prob(JB):                     2.29e-28\n",
      "Kurtosis:                       4.918   Cond. No.                         520.\n",
      "==============================================================================\n",
      "\n",
      "Warnings:\n",
      "[1] Standard Errors assume that the covariance matrix of the errors is correctly specified.\n"
     ]
    }
   ],
   "source": [
    "# add two interaction term\n",
    "y = df['cost']\n",
    "formula = 'cost ~ abdominal_mass*spring_constant + length_scale*petiole_length'\n",
    "model = smf.ols(formula = formula, data=df)\n",
    "result = model.fit()\n",
    "print(result.summary())"
   ]
  },
  {
   "cell_type": "code",
   "execution_count": 22,
   "id": "396e740d",
   "metadata": {},
   "outputs": [
    {
     "data": {
      "text/plain": [
       "Intercept                         4.022451e-138\n",
       "abdominal_mass                     0.000000e+00\n",
       "spring_constant                    2.070096e-05\n",
       "abdominal_mass:spring_constant     1.792286e-10\n",
       "length_scale                      4.286171e-304\n",
       "petiole_length                     1.989993e-06\n",
       "length_scale:petiole_length        2.598480e-04\n",
       "dtype: float64"
      ]
     },
     "execution_count": 22,
     "metadata": {},
     "output_type": "execute_result"
    }
   ],
   "source": [
    "result.pvalues"
   ]
  },
  {
   "cell_type": "code",
   "execution_count": 29,
   "id": "bd249dbc",
   "metadata": {},
   "outputs": [
    {
     "data": {
      "text/plain": [
       "[('F statistic', 0.7646165450219904), ('p-value', 0.9942371633540975)]"
      ]
     },
     "execution_count": 29,
     "metadata": {},
     "output_type": "execute_result"
    }
   ],
   "source": [
    "# is the error variance is similar or not - hereroscedasticity tests\n",
    "name = [\"F statistic\", \"p-value\"]\n",
    "test = sms.het_goldfeldquandt(result.resid, result.model.exog)\n",
    "list(zip(name, test))"
   ]
  },
  {
   "cell_type": "code",
   "execution_count": 30,
   "id": "16233d59",
   "metadata": {},
   "outputs": [
    {
     "data": {
      "text/plain": [
       "[('t value', 412.33800365791933), ('p value', 6.2168420924304304e-86)]"
      ]
     },
     "execution_count": 30,
     "metadata": {},
     "output_type": "execute_result"
    }
   ],
   "source": [
    "# check is the linear specification is correct\n",
    "\n",
    "name = [\"t value\", \"p value\"]\n",
    "test = statsmodels.stats.diagnostic.linear_lm(result.resid, model.exog)\n",
    "list(zip(name, test))"
   ]
  },
  {
   "cell_type": "code",
   "execution_count": null,
   "id": "eeb8cfda",
   "metadata": {},
   "outputs": [],
   "source": []
  }
 ],
 "metadata": {
  "kernelspec": {
   "display_name": "Python 3",
   "language": "python",
   "name": "python3"
  },
  "language_info": {
   "codemirror_mode": {
    "name": "ipython",
    "version": 3
   },
   "file_extension": ".py",
   "mimetype": "text/x-python",
   "name": "python",
   "nbconvert_exporter": "python",
   "pygments_lexer": "ipython3",
   "version": "3.6.5"
  }
 },
 "nbformat": 4,
 "nbformat_minor": 5
}
